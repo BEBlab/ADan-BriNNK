{
 "cells": [
  {
   "cell_type": "code",
   "execution_count": 1,
   "id": "3714e38a",
   "metadata": {},
   "outputs": [],
   "source": [
    "import pandas as pd\n",
    "import math\n",
    "from Bio import SeqIO"
   ]
  },
  {
   "cell_type": "markdown",
   "id": "5f9c2a32",
   "metadata": {},
   "source": [
    "---\n",
    "### CamSol"
   ]
  },
  {
   "cell_type": "code",
   "execution_count": 2,
   "id": "3ff236b7",
   "metadata": {},
   "outputs": [
    {
     "data": {
      "text/html": [
       "<div>\n",
       "<style scoped>\n",
       "    .dataframe tbody tr th:only-of-type {\n",
       "        vertical-align: middle;\n",
       "    }\n",
       "\n",
       "    .dataframe tbody tr th {\n",
       "        vertical-align: top;\n",
       "    }\n",
       "\n",
       "    .dataframe thead th {\n",
       "        text-align: right;\n",
       "    }\n",
       "</style>\n",
       "<table border=\"1\" class=\"dataframe\">\n",
       "  <thead>\n",
       "    <tr style=\"text-align: right;\">\n",
       "      <th></th>\n",
       "      <th>ID</th>\n",
       "      <th>CamSol_score</th>\n",
       "    </tr>\n",
       "  </thead>\n",
       "  <tbody>\n",
       "    <tr>\n",
       "      <th>0</th>\n",
       "      <td>ADan</td>\n",
       "      <td>1.000000</td>\n",
       "    </tr>\n",
       "    <tr>\n",
       "      <th>1</th>\n",
       "      <td>E-1-K</td>\n",
       "      <td>1.015684</td>\n",
       "    </tr>\n",
       "    <tr>\n",
       "      <th>2</th>\n",
       "      <td>E-1-N</td>\n",
       "      <td>0.900170</td>\n",
       "    </tr>\n",
       "    <tr>\n",
       "      <th>3</th>\n",
       "      <td>E-1-T</td>\n",
       "      <td>0.701321</td>\n",
       "    </tr>\n",
       "    <tr>\n",
       "      <th>4</th>\n",
       "      <td>E-1-R</td>\n",
       "      <td>1.028204</td>\n",
       "    </tr>\n",
       "  </tbody>\n",
       "</table>\n",
       "</div>"
      ],
      "text/plain": [
       "      ID  CamSol_score\n",
       "0   ADan      1.000000\n",
       "1  E-1-K      1.015684\n",
       "2  E-1-N      0.900170\n",
       "3  E-1-T      0.701321\n",
       "4  E-1-R      1.028204"
      ]
     },
     "execution_count": 2,
     "metadata": {},
     "output_type": "execute_result"
    }
   ],
   "source": [
    "def camsol_score(name):\n",
    "    camsol_df = pd.read_csv('CamSol_'+name+'.txt', sep='\\t')\n",
    "    camsol_scores = []\n",
    "    for i in camsol_df.index:\n",
    "        camsol_scores.append((camsol_df.loc[i, \"protein variant score\"]/camsol_df.loc[camsol_df[\"Name\"] == \"ADan\", \"protein variant score\"]).item())\n",
    "    df = pd.DataFrame()\n",
    "    df['ID'] = camsol_df.Name.tolist()\n",
    "    df['CamSol_score'] = camsol_scores\n",
    "    df.to_csv('CamSol_'+name+'_scores.csv')\n",
    "    return df\n",
    "\n",
    "ADan_camsol = camsol_score(\"ADan_2_df\")\n",
    "ADan_camsol.head()"
   ]
  },
  {
   "cell_type": "code",
   "execution_count": 3,
   "id": "e493bb4d",
   "metadata": {},
   "outputs": [],
   "source": [
    "ADan_camsol.to_csv(\"ADan_2_df_camsol_score.csv\")"
   ]
  },
  {
   "cell_type": "markdown",
   "id": "70421900",
   "metadata": {},
   "source": [
    "---\n",
    "### AMYLPred-FRL"
   ]
  },
  {
   "cell_type": "code",
   "execution_count": 4,
   "id": "806e9535",
   "metadata": {},
   "outputs": [
    {
     "data": {
      "text/html": [
       "<div>\n",
       "<style scoped>\n",
       "    .dataframe tbody tr th:only-of-type {\n",
       "        vertical-align: middle;\n",
       "    }\n",
       "\n",
       "    .dataframe tbody tr th {\n",
       "        vertical-align: top;\n",
       "    }\n",
       "\n",
       "    .dataframe thead th {\n",
       "        text-align: right;\n",
       "    }\n",
       "</style>\n",
       "<table border=\"1\" class=\"dataframe\">\n",
       "  <thead>\n",
       "    <tr style=\"text-align: right;\">\n",
       "      <th></th>\n",
       "      <th>ID</th>\n",
       "      <th>Amypred_score</th>\n",
       "    </tr>\n",
       "  </thead>\n",
       "  <tbody>\n",
       "    <tr>\n",
       "      <th>0</th>\n",
       "      <td>ADan</td>\n",
       "      <td>0.000000</td>\n",
       "    </tr>\n",
       "    <tr>\n",
       "      <th>1</th>\n",
       "      <td>E-1-K</td>\n",
       "      <td>0.009865</td>\n",
       "    </tr>\n",
       "    <tr>\n",
       "      <th>2</th>\n",
       "      <td>E-1-N</td>\n",
       "      <td>0.008003</td>\n",
       "    </tr>\n",
       "    <tr>\n",
       "      <th>3</th>\n",
       "      <td>E-1-T</td>\n",
       "      <td>0.013565</td>\n",
       "    </tr>\n",
       "    <tr>\n",
       "      <th>4</th>\n",
       "      <td>E-1-R</td>\n",
       "      <td>0.012182</td>\n",
       "    </tr>\n",
       "  </tbody>\n",
       "</table>\n",
       "</div>"
      ],
      "text/plain": [
       "      ID  Amypred_score\n",
       "0   ADan       0.000000\n",
       "1  E-1-K       0.009865\n",
       "2  E-1-N       0.008003\n",
       "3  E-1-T       0.013565\n",
       "4  E-1-R       0.012182"
      ]
     },
     "execution_count": 4,
     "metadata": {},
     "output_type": "execute_result"
    }
   ],
   "source": [
    "def amypred_result(name):\n",
    "    amypred = pd.read_csv('AMYPred-FRL_'+name+'.txt', sep='\\t')\n",
    "    amypred['Amypred_score'] = amypred.apply(lambda x: math.log10(x['Probability']/amypred.loc[amypred['Name'] == 'ADan', 'Probability']), axis=1)\n",
    "    amypred[\"ID\"] = amypred[\"Name\"]\n",
    "    amypred = amypred[['ID', 'Amypred_score']]\n",
    "    return amypred\n",
    "\n",
    "ADan_amypred = amypred_result(\"ADan_2_df\")\n",
    "ADan_amypred.head()"
   ]
  },
  {
   "cell_type": "code",
   "execution_count": 5,
   "id": "748eb2eb",
   "metadata": {},
   "outputs": [],
   "source": [
    "ADan_amypred.to_csv(\"ADan_2_df_amypred_score.csv\")"
   ]
  },
  {
   "cell_type": "markdown",
   "id": "db32fc40",
   "metadata": {},
   "source": [
    "---\n",
    "### Tango"
   ]
  },
  {
   "cell_type": "code",
   "execution_count": 5,
   "id": "20d43aef",
   "metadata": {},
   "outputs": [],
   "source": [
    "def tango_runfile(fasta_file, name):\n",
    "    with open(name+'_tango.bat', 'w') as f:\n",
    "        for record in SeqIO.parse(fasta_file, \"fasta\"):             \n",
    "            f.write('tango '+str(record.id)+' nt=\"N\" ct=\"N\" ph=\"7.4\" te=\"310\" io=\"0.05\" tf=\"0\" seq=\"'+str(record.seq)+'\"')\n",
    "            f.write('\\n')\n",
    "\n",
    "tango_runfile(\"ADan_2_df.fasta\", \"ADan\")\n"
   ]
  },
  {
   "cell_type": "code",
   "execution_count": 8,
   "id": "1547c816",
   "metadata": {},
   "outputs": [
    {
     "data": {
      "text/html": [
       "<div>\n",
       "<style scoped>\n",
       "    .dataframe tbody tr th:only-of-type {\n",
       "        vertical-align: middle;\n",
       "    }\n",
       "\n",
       "    .dataframe tbody tr th {\n",
       "        vertical-align: top;\n",
       "    }\n",
       "\n",
       "    .dataframe thead th {\n",
       "        text-align: right;\n",
       "    }\n",
       "</style>\n",
       "<table border=\"1\" class=\"dataframe\">\n",
       "  <thead>\n",
       "    <tr style=\"text-align: right;\">\n",
       "      <th></th>\n",
       "      <th>ID</th>\n",
       "      <th>Tango_score</th>\n",
       "    </tr>\n",
       "  </thead>\n",
       "  <tbody>\n",
       "    <tr>\n",
       "      <th>0</th>\n",
       "      <td>ADan</td>\n",
       "      <td>0.000000</td>\n",
       "    </tr>\n",
       "    <tr>\n",
       "      <th>1</th>\n",
       "      <td>E-1-K</td>\n",
       "      <td>-0.006985</td>\n",
       "    </tr>\n",
       "    <tr>\n",
       "      <th>2</th>\n",
       "      <td>E-1-N</td>\n",
       "      <td>-0.007240</td>\n",
       "    </tr>\n",
       "    <tr>\n",
       "      <th>3</th>\n",
       "      <td>E-1-T</td>\n",
       "      <td>-0.006985</td>\n",
       "    </tr>\n",
       "    <tr>\n",
       "      <th>4</th>\n",
       "      <td>E-1-R</td>\n",
       "      <td>-0.006985</td>\n",
       "    </tr>\n",
       "  </tbody>\n",
       "</table>\n",
       "</div>"
      ],
      "text/plain": [
       "      ID  Tango_score\n",
       "0   ADan     0.000000\n",
       "1  E-1-K    -0.006985\n",
       "2  E-1-N    -0.007240\n",
       "3  E-1-T    -0.006985\n",
       "4  E-1-R    -0.006985"
      ]
     },
     "execution_count": 8,
     "metadata": {},
     "output_type": "execute_result"
    }
   ],
   "source": [
    "def tango_score(fasta_file, Name):\n",
    "    df_wt = pd.read_csv(\"Tango/\"+Name+\".txt\", sep='\\t')\n",
    "    wt_tango_score = df_wt.Aggregation.sum()+1\n",
    "    tango_scores = []\n",
    "    variants = []\n",
    "    for record in SeqIO.parse(fasta_file, \"fasta\"):\n",
    "        mutant_ = pd.read_csv(\"Tango/\"+str(record.id)+\".txt\", sep='\\t')\n",
    "        mutant_tango_score = mutant_.Aggregation.sum()+1\n",
    "        mutant_tango_score_norm = math.log10(mutant_tango_score/wt_tango_score)\n",
    "        tango_scores.append(mutant_tango_score_norm)\n",
    "        variants.append(str(record.id))\n",
    "    df = pd.DataFrame()\n",
    "    df['ID'] = variants\n",
    "    df['Tango_score'] = tango_scores\n",
    "    df.drop_duplicates(inplace=True)\n",
    "    return df\n",
    "\n",
    "df = tango_score(\"ADan_2_df.fasta\", \"ADan\")\n",
    "df.head()"
   ]
  },
  {
   "cell_type": "code",
   "execution_count": 9,
   "id": "0fdde512",
   "metadata": {},
   "outputs": [],
   "source": [
    "df.to_csv(\"ADan_2_df_tango_score.csv\")"
   ]
  },
  {
   "cell_type": "code",
   "execution_count": null,
   "id": "b671951b",
   "metadata": {},
   "outputs": [],
   "source": []
  }
 ],
 "metadata": {
  "kernelspec": {
   "display_name": "Python 3 (ipykernel)",
   "language": "python",
   "name": "python3"
  },
  "language_info": {
   "codemirror_mode": {
    "name": "ipython",
    "version": 3
   },
   "file_extension": ".py",
   "mimetype": "text/x-python",
   "name": "python",
   "nbconvert_exporter": "python",
   "pygments_lexer": "ipython3",
   "version": "3.9.12"
  }
 },
 "nbformat": 4,
 "nbformat_minor": 5
}
